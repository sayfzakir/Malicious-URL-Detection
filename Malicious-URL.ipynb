{
 "cells": [
  {
   "cell_type": "code",
   "execution_count": 4,
   "metadata": {},
   "outputs": [],
   "source": [
    "import numpy as np\n",
    "## Importing TensorFlow API\n",
    "import tensorflow as tf\n",
    "import keras\n",
    "import pickle as pkl\n",
    "import Vector_creator as Vc\n",
    "import pandas as pd\n",
    "import re\n",
    "import collections\n",
    "from sklearn.model_selection import train_test_split"
   ]
  },
  {
   "cell_type": "code",
   "execution_count": 5,
   "metadata": {},
   "outputs": [
    {
     "name": "stdout",
     "output_type": "stream",
     "text": [
      "\n",
      "\n",
      "===========================================================\n",
      "\n",
      "Reading of Training Phase Done\n",
      "\n",
      "===========================================================\n",
      "\n",
      "\n"
     ]
    }
   ],
   "source": [
    "train_data = pd.read_csv('New_train_data.csv')\n",
    "print('\\n\\n===========================================================')\n",
    "print('\\nReading of Training Phase Done\\n')\n",
    "print('===========================================================\\n\\n')"
   ]
  },
  {
   "cell_type": "code",
   "execution_count": 6,
   "metadata": {},
   "outputs": [],
   "source": [
    "y=train_data['Lable'].values \n",
    "x=train_data.drop(['URL','Lable'],axis=1).values\n",
    "\n",
    "x_train, x_test, y_train, y_test = train_test_split(x, y, test_size = 0.2, random_state = 0)\n"
   ]
  },
  {
   "cell_type": "code",
   "execution_count": 7,
   "metadata": {
    "scrolled": true
   },
   "outputs": [
    {
     "name": "stdout",
     "output_type": "stream",
     "text": [
      "[52.  5.  1.  0.  7.  1. 21.  2.  1.  0. 17. 10.  5.  5.  0. 24.  4.  0.\n",
      "  0.  0.  0.  0. -1. -1. -1. -1.]\n"
     ]
    }
   ],
   "source": [
    "from sklearn.preprocessing import StandardScaler\n",
    "sc = StandardScaler()\n",
    "\n",
    "x_train = sc.fit_transform(x_train)\n",
    "x_test = sc.transform(x_test)\n",
    "\n",
    "print(x[0])"
   ]
  },
  {
   "cell_type": "markdown",
   "metadata": {},
   "source": [
    "START NN"
   ]
  },
  {
   "cell_type": "code",
   "execution_count": 5,
   "metadata": {},
   "outputs": [],
   "source": [
    "ann = tf.keras.models.Sequential()\n",
    "ann.add(tf.keras.layers.Dense(units=10, activation = \"relu\"))\n",
    "ann.add(tf.keras.layers.Dense(units=2, activation = \"softmax\"))"
   ]
  },
  {
   "cell_type": "code",
   "execution_count": 6,
   "metadata": {
    "scrolled": false
   },
   "outputs": [
    {
     "name": "stdout",
     "output_type": "stream",
     "text": [
      "Epoch 1/20\n",
      "175/175 [==============================] - 0s 682us/step - loss: 0.3772 - accuracy: 0.8263\n",
      "Epoch 2/20\n",
      "175/175 [==============================] - 0s 628us/step - loss: 0.2661 - accuracy: 0.8755\n",
      "Epoch 3/20\n",
      "175/175 [==============================] - 0s 605us/step - loss: 0.2328 - accuracy: 0.8918\n",
      "Epoch 4/20\n",
      "175/175 [==============================] - 0s 609us/step - loss: 0.2140 - accuracy: 0.9073\n",
      "Epoch 5/20\n",
      "175/175 [==============================] - 0s 605us/step - loss: 0.2024 - accuracy: 0.9129\n",
      "Epoch 6/20\n",
      "175/175 [==============================] - 0s 609us/step - loss: 0.1942 - accuracy: 0.9175\n",
      "Epoch 7/20\n",
      "175/175 [==============================] - 0s 604us/step - loss: 0.1880 - accuracy: 0.9214\n",
      "Epoch 8/20\n",
      "175/175 [==============================] - 0s 599us/step - loss: 0.1837 - accuracy: 0.9227\n",
      "Epoch 9/20\n",
      "175/175 [==============================] - 0s 627us/step - loss: 0.1796 - accuracy: 0.9230\n",
      "Epoch 10/20\n",
      "175/175 [==============================] - 0s 653us/step - loss: 0.1767 - accuracy: 0.9246\n",
      "Epoch 11/20\n",
      "175/175 [==============================] - 0s 831us/step - loss: 0.1738 - accuracy: 0.9270\n",
      "Epoch 12/20\n",
      "175/175 [==============================] - 0s 655us/step - loss: 0.1720 - accuracy: 0.9268\n",
      "Epoch 13/20\n",
      "175/175 [==============================] - 0s 572us/step - loss: 0.1702 - accuracy: 0.9270\n",
      "Epoch 14/20\n",
      "175/175 [==============================] - 0s 545us/step - loss: 0.1680 - accuracy: 0.9293\n",
      "Epoch 15/20\n",
      "175/175 [==============================] - 0s 621us/step - loss: 0.1669 - accuracy: 0.9279\n",
      "Epoch 16/20\n",
      "175/175 [==============================] - 0s 718us/step - loss: 0.1655 - accuracy: 0.9289\n",
      "Epoch 17/20\n",
      "175/175 [==============================] - 0s 638us/step - loss: 0.1638 - accuracy: 0.9284\n",
      "Epoch 18/20\n",
      "175/175 [==============================] - 0s 689us/step - loss: 0.1629 - accuracy: 0.9309\n",
      "Epoch 19/20\n",
      "175/175 [==============================] - 0s 701us/step - loss: 0.1621 - accuracy: 0.9329\n",
      "Epoch 20/20\n",
      "175/175 [==============================] - 0s 570us/step - loss: 0.1611 - accuracy: 0.9325\n"
     ]
    },
    {
     "data": {
      "text/plain": [
       "<tensorflow.python.keras.callbacks.History at 0x2b1efd9d970>"
      ]
     },
     "execution_count": 6,
     "metadata": {},
     "output_type": "execute_result"
    }
   ],
   "source": [
    "ann.compile(optimizer = 'rmsprop', loss = 'sparse_categorical_crossentropy', metrics = ['accuracy'])\n",
    "ann.fit(x_train, y_train, batch_size = 32, epochs = 20)"
   ]
  },
  {
   "cell_type": "code",
   "execution_count": null,
   "metadata": {},
   "outputs": [],
   "source": [
    "ann.save('MODEL')"
   ]
  },
  {
   "cell_type": "code",
   "execution_count": 5,
   "metadata": {},
   "outputs": [],
   "source": [
    "ann=keras.models.load_model('MODEL')\n"
   ]
  },
  {
   "cell_type": "code",
   "execution_count": 12,
   "metadata": {},
   "outputs": [
    {
     "data": {
      "text/plain": [
       "array([[2.6871765e-03, 9.9731284e-01],\n",
       "       [1.8064283e-07, 9.9999976e-01],\n",
       "       [3.6144484e-05, 9.9996388e-01],\n",
       "       ...,\n",
       "       [9.6389836e-01, 3.6101617e-02],\n",
       "       [7.5730586e-01, 2.4269412e-01],\n",
       "       [4.4450604e-07, 9.9999952e-01]], dtype=float32)"
      ]
     },
     "execution_count": 12,
     "metadata": {},
     "output_type": "execute_result"
    }
   ],
   "source": [
    "y_pred = ann.predict(x_test)\n",
    "y_pred\n"
   ]
  },
  {
   "cell_type": "code",
   "execution_count": 8,
   "metadata": {},
   "outputs": [
    {
     "data": {
      "text/plain": [
       "array([0.9998554 , 1.        , 0.99994814, ..., 0.02703607, 0.17605278,\n",
       "       1.        ], dtype=float32)"
      ]
     },
     "execution_count": 8,
     "metadata": {},
     "output_type": "execute_result"
    }
   ],
   "source": [
    "y_pred = y_pred[:,1]\n",
    "y_pred"
   ]
  },
  {
   "cell_type": "code",
   "execution_count": 13,
   "metadata": {
    "collapsed": true
   },
   "outputs": [
    {
     "ename": "ValueError",
     "evalue": "cannot reshape array of size 2800 into shape (1400,1)",
     "output_type": "error",
     "traceback": [
      "\u001b[1;31m---------------------------------------------------------------------------\u001b[0m",
      "\u001b[1;31mValueError\u001b[0m                                Traceback (most recent call last)",
      "\u001b[1;32m<ipython-input-13-d432355df31c>\u001b[0m in \u001b[0;36m<module>\u001b[1;34m\u001b[0m\n\u001b[0;32m      1\u001b[0m \u001b[0my_pred\u001b[0m \u001b[1;33m=\u001b[0m \u001b[1;33m(\u001b[0m \u001b[0my_pred\u001b[0m \u001b[1;33m>\u001b[0m \u001b[1;36m0.5\u001b[0m \u001b[1;33m)\u001b[0m\u001b[1;33m\u001b[0m\u001b[1;33m\u001b[0m\u001b[0m\n\u001b[0;32m      2\u001b[0m \u001b[1;33m\u001b[0m\u001b[0m\n\u001b[1;32m----> 3\u001b[1;33m \u001b[0mprint\u001b[0m\u001b[1;33m(\u001b[0m\u001b[0mnp\u001b[0m\u001b[1;33m.\u001b[0m\u001b[0mconcatenate\u001b[0m\u001b[1;33m(\u001b[0m\u001b[1;33m(\u001b[0m\u001b[0my_pred\u001b[0m\u001b[1;33m.\u001b[0m\u001b[0mreshape\u001b[0m\u001b[1;33m(\u001b[0m\u001b[0mlen\u001b[0m\u001b[1;33m(\u001b[0m\u001b[0my_pred\u001b[0m\u001b[1;33m)\u001b[0m\u001b[1;33m,\u001b[0m\u001b[1;36m1\u001b[0m\u001b[1;33m)\u001b[0m\u001b[1;33m,\u001b[0m \u001b[0my_test\u001b[0m\u001b[1;33m.\u001b[0m\u001b[0mreshape\u001b[0m\u001b[1;33m(\u001b[0m\u001b[0mlen\u001b[0m\u001b[1;33m(\u001b[0m\u001b[0my_test\u001b[0m\u001b[1;33m)\u001b[0m\u001b[1;33m,\u001b[0m\u001b[1;36m1\u001b[0m\u001b[1;33m)\u001b[0m\u001b[1;33m)\u001b[0m\u001b[1;33m,\u001b[0m\u001b[1;36m1\u001b[0m\u001b[1;33m)\u001b[0m\u001b[1;33m)\u001b[0m\u001b[1;33m\u001b[0m\u001b[1;33m\u001b[0m\u001b[0m\n\u001b[0m",
      "\u001b[1;31mValueError\u001b[0m: cannot reshape array of size 2800 into shape (1400,1)"
     ]
    }
   ],
   "source": [
    "y_pred = ( y_pred > 0.5 )\n",
    "\n",
    "print(np.concatenate((y_pred.reshape(len(y_pred),1), y_test.reshape(len(y_test),1)),1))"
   ]
  },
  {
   "cell_type": "code",
   "execution_count": 31,
   "metadata": {
    "collapsed": true
   },
   "outputs": [
    {
     "name": "stdout",
     "output_type": "stream",
     "text": [
      "[[627  47]\n",
      " [ 75 651]]\n",
      "Accuracy:  91.28571428571428\n"
     ]
    }
   ],
   "source": [
    "from sklearn.metrics import confusion_matrix, accuracy_score\n",
    "\n",
    "cm = confusion_matrix(y_test, y_pred)\n",
    "print(cm)\n",
    "print(\"Accuracy: \", accuracy_score(y_test, y_pred)*100)"
   ]
  },
  {
   "cell_type": "code",
   "execution_count": 6,
   "metadata": {},
   "outputs": [
    {
     "name": "stdout",
     "output_type": "stream",
     "text": [
      "Enter URL: https://github.com/30-seconds/30-seconds-of-code\n",
      "Probably a Benign URL\n",
      "Enter URL: http://en.wikipedia.org/wiki/Google\n",
      "Probably a Benign URL\n",
      "Enter URL: http://www.projecthoneypot.org/list_of_ips.php\n",
      "Probably a malicious URL\n",
      "Enter URL: https://www.youtube.com/feed/subscriptions\n",
      "Probably a Benign URL\n",
      "Enter URL: http://bmwusfactory.com/\n",
      "Probably a malicious URL\n",
      "Enter URL: http://www.shadowserver.org/wiki/pmwiki.php?n=Services/Reports\n",
      "Probably a Benign URL\n",
      "Enter URL: https://www.linkedin.com/feed/\n",
      "Probably a malicious URL\n",
      "Enter URL: http://tarapropertiesllc.com/jumbo/LoginVerification.php...\n",
      "Probably a malicious URL\n",
      "Enter URL: https://meet.google.com/are-fcaf-swi\n",
      "Probably a malicious URL\n"
     ]
    },
    {
     "ename": "KeyboardInterrupt",
     "evalue": "Interrupted by user",
     "output_type": "error",
     "traceback": [
      "\u001b[1;31m---------------------------------------------------------------------------\u001b[0m",
      "\u001b[1;31mKeyboardInterrupt\u001b[0m                         Traceback (most recent call last)",
      "\u001b[1;32m<ipython-input-6-4f244886c106>\u001b[0m in \u001b[0;36m<module>\u001b[1;34m\u001b[0m\n\u001b[0;32m      1\u001b[0m \u001b[1;32mwhile\u001b[0m \u001b[1;32mTrue\u001b[0m\u001b[1;33m:\u001b[0m\u001b[1;33m\u001b[0m\u001b[1;33m\u001b[0m\u001b[0m\n\u001b[1;32m----> 2\u001b[1;33m     \u001b[0murl\u001b[0m \u001b[1;33m=\u001b[0m \u001b[0minput\u001b[0m\u001b[1;33m(\u001b[0m\u001b[1;34m\"Enter URL: \"\u001b[0m\u001b[1;33m)\u001b[0m\u001b[1;33m\u001b[0m\u001b[1;33m\u001b[0m\u001b[0m\n\u001b[0m\u001b[0;32m      3\u001b[0m     \u001b[1;32mif\u001b[0m \u001b[0murl\u001b[0m \u001b[1;33m==\u001b[0m \u001b[1;34m''\u001b[0m\u001b[1;33m:\u001b[0m\u001b[1;33m\u001b[0m\u001b[1;33m\u001b[0m\u001b[0m\n\u001b[0;32m      4\u001b[0m         \u001b[1;32mbreak\u001b[0m\u001b[1;33m\u001b[0m\u001b[1;33m\u001b[0m\u001b[0m\n\u001b[0;32m      5\u001b[0m     \u001b[0mx\u001b[0m\u001b[1;33m=\u001b[0m\u001b[0mre\u001b[0m\u001b[1;33m.\u001b[0m\u001b[0msearch\u001b[0m\u001b[1;33m(\u001b[0m\u001b[1;34m\"((http)|(ftp))s?:\\/\\/[\\-.a-zA-Z0-9]{2,}(\\.[a-z]{2,})+(\\/[\\-.a-zA-Z0-9+=?&]*)*\"\u001b[0m\u001b[1;33m,\u001b[0m\u001b[0murl\u001b[0m\u001b[1;33m)\u001b[0m\u001b[1;33m\u001b[0m\u001b[1;33m\u001b[0m\u001b[0m\n",
      "\u001b[1;32mD:\\anaconda3\\lib\\site-packages\\ipykernel\\kernelbase.py\u001b[0m in \u001b[0;36mraw_input\u001b[1;34m(self, prompt)\u001b[0m\n\u001b[0;32m    858\u001b[0m                 \u001b[1;34m\"raw_input was called, but this frontend does not support input requests.\"\u001b[0m\u001b[1;33m\u001b[0m\u001b[1;33m\u001b[0m\u001b[0m\n\u001b[0;32m    859\u001b[0m             )\n\u001b[1;32m--> 860\u001b[1;33m         return self._input_request(str(prompt),\n\u001b[0m\u001b[0;32m    861\u001b[0m             \u001b[0mself\u001b[0m\u001b[1;33m.\u001b[0m\u001b[0m_parent_ident\u001b[0m\u001b[1;33m,\u001b[0m\u001b[1;33m\u001b[0m\u001b[1;33m\u001b[0m\u001b[0m\n\u001b[0;32m    862\u001b[0m             \u001b[0mself\u001b[0m\u001b[1;33m.\u001b[0m\u001b[0m_parent_header\u001b[0m\u001b[1;33m,\u001b[0m\u001b[1;33m\u001b[0m\u001b[1;33m\u001b[0m\u001b[0m\n",
      "\u001b[1;32mD:\\anaconda3\\lib\\site-packages\\ipykernel\\kernelbase.py\u001b[0m in \u001b[0;36m_input_request\u001b[1;34m(self, prompt, ident, parent, password)\u001b[0m\n\u001b[0;32m    902\u001b[0m             \u001b[1;32mexcept\u001b[0m \u001b[0mKeyboardInterrupt\u001b[0m\u001b[1;33m:\u001b[0m\u001b[1;33m\u001b[0m\u001b[1;33m\u001b[0m\u001b[0m\n\u001b[0;32m    903\u001b[0m                 \u001b[1;31m# re-raise KeyboardInterrupt, to truncate traceback\u001b[0m\u001b[1;33m\u001b[0m\u001b[1;33m\u001b[0m\u001b[1;33m\u001b[0m\u001b[0m\n\u001b[1;32m--> 904\u001b[1;33m                 \u001b[1;32mraise\u001b[0m \u001b[0mKeyboardInterrupt\u001b[0m\u001b[1;33m(\u001b[0m\u001b[1;34m\"Interrupted by user\"\u001b[0m\u001b[1;33m)\u001b[0m \u001b[1;32mfrom\u001b[0m \u001b[1;32mNone\u001b[0m\u001b[1;33m\u001b[0m\u001b[1;33m\u001b[0m\u001b[0m\n\u001b[0m\u001b[0;32m    905\u001b[0m             \u001b[1;32mexcept\u001b[0m \u001b[0mException\u001b[0m \u001b[1;32mas\u001b[0m \u001b[0me\u001b[0m\u001b[1;33m:\u001b[0m\u001b[1;33m\u001b[0m\u001b[1;33m\u001b[0m\u001b[0m\n\u001b[0;32m    906\u001b[0m                 \u001b[0mself\u001b[0m\u001b[1;33m.\u001b[0m\u001b[0mlog\u001b[0m\u001b[1;33m.\u001b[0m\u001b[0mwarning\u001b[0m\u001b[1;33m(\u001b[0m\u001b[1;34m\"Invalid Message:\"\u001b[0m\u001b[1;33m,\u001b[0m \u001b[0mexc_info\u001b[0m\u001b[1;33m=\u001b[0m\u001b[1;32mTrue\u001b[0m\u001b[1;33m)\u001b[0m\u001b[1;33m\u001b[0m\u001b[1;33m\u001b[0m\u001b[0m\n",
      "\u001b[1;31mKeyboardInterrupt\u001b[0m: Interrupted by user"
     ]
    }
   ],
   "source": [
    "\n",
    "while True:\n",
    "    url = input(\"Enter URL: \")\n",
    "    if url == '':\n",
    "        break\n",
    "    x=re.search(\"((http)|(ftp))s?:\\/\\/[\\-.a-zA-Z0-9]{2,}(\\.[a-z]{2,})+(\\/[\\-.a-zA-Z0-9+=?&]*)*\",url)\n",
    "    if(x):\n",
    "        vec=Vc.Construct_Vector(url)\n",
    "        vec=np.array(vec)\n",
    "        vec=vec.reshape(1,-1)\n",
    "        result = ann.predict(vec)\n",
    "        result = ( result[:,1] > 0.5 )\n",
    "        if(result==True):\n",
    "            print('Probably a malicious URL')\n",
    "        else:\n",
    "            \n",
    "            print('Probably a Benign URL')\n",
    "    else:\n",
    "        print(\"ERROR NOT A VALID URL\")\n"
   ]
  },
  {
   "cell_type": "code",
   "execution_count": null,
   "metadata": {},
   "outputs": [],
   "source": []
  },
  {
   "cell_type": "code",
   "execution_count": null,
   "metadata": {},
   "outputs": [],
   "source": []
  }
 ],
 "metadata": {
  "kernelspec": {
   "display_name": "Python 3",
   "language": "python",
   "name": "python3"
  },
  "language_info": {
   "codemirror_mode": {
    "name": "ipython",
    "version": 3
   },
   "file_extension": ".py",
   "mimetype": "text/x-python",
   "name": "python",
   "nbconvert_exporter": "python",
   "pygments_lexer": "ipython3",
   "version": "3.8.3"
  }
 },
 "nbformat": 4,
 "nbformat_minor": 4
}
